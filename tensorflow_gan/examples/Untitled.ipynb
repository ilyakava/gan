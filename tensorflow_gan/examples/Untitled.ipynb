{
 "cells": [
  {
   "cell_type": "code",
   "execution_count": 464,
   "metadata": {},
   "outputs": [],
   "source": [
    "import tensorflow as tf\n",
    "from self_attention_estimator import ops\n",
    "from tensorflow.keras import Model\n",
    "from tensorflow.keras.layers import Dense, Flatten, Conv2D, ReLU, AveragePooling2D"
   ]
  },
  {
   "cell_type": "code",
   "execution_count": 408,
   "metadata": {},
   "outputs": [],
   "source": [
    "import tensorflow_datasets as tfds"
   ]
  },
  {
   "cell_type": "code",
   "execution_count": 252,
   "metadata": {},
   "outputs": [],
   "source": [
    "import matplotlib.pyplot as plt\n",
    "%matplotlib inline"
   ]
  },
  {
   "cell_type": "code",
   "execution_count": 250,
   "metadata": {},
   "outputs": [],
   "source": [
    "import numpy as np\n",
    "from sklearn.datasets import make_classification, make_blobs\n",
    "from numpy import linalg as LA"
   ]
  },
  {
   "cell_type": "code",
   "execution_count": 378,
   "metadata": {},
   "outputs": [],
   "source": [
    "n_samples = 100000\n",
    "n_features=128\n",
    "n_class = 1000\n",
    "# X, Y = make_classification(n_samples=n_samples, n_features=n_features, n_informative=(3*n_features//4), n_classes=n_class)\n",
    "X, Y = make_blobs(n_samples=n_samples, n_features=n_features, centers=n_class, center_box=(-1,1))\n",
    "Y_one_hot = np.zeros((n_samples, n_class), dtype=bool)\n",
    "rows = np.arange(n_samples)\n",
    "Y_one_hot[rows,Y] = 1\n",
    "# 'delete' some features\n",
    "idxs = np.arange(n_features)\n",
    "np.random.shuffle(idxs)\n",
    "p  = 2 # inverse of proportion of features that are informative\n",
    "X[:,idxs[(n_features//p):]] = np.random.rand(n_samples, n_features - n_features//p)\n",
    "\n",
    "X -= X.mean(axis=0)\n",
    "\n",
    "nval = int(0.2 * n_samples)\n",
    "Xtrain = X[nval:]\n",
    "Ytrain = Y[nval:]\n",
    "Xval = X[:nval]\n",
    "Yval = Y[:nval]\n",
    "Y_one_hottrain = Y_one_hot[nval:]\n",
    "Y_one_hotval = Y_one_hot[:nval]"
   ]
  },
  {
   "cell_type": "code",
   "execution_count": 379,
   "metadata": {},
   "outputs": [],
   "source": [
    "bs = 1024\n",
    "train_ds = tf.data.Dataset.from_tensor_slices(\n",
    "    (Xtrain, Y_one_hottrain)).shuffle(10000).batch(bs)\n",
    "\n",
    "test_ds = tf.data.Dataset.from_tensor_slices((Xval, Y_one_hotval)).batch(bs)"
   ]
  },
  {
   "cell_type": "code",
   "execution_count": 438,
   "metadata": {},
   "outputs": [],
   "source": [
    "def _preprocess_dataset_record_fn(nclass):\n",
    "\n",
    "  def _process_record(record):\n",
    "    \"\"\"Takes the largest central square and resamples to image_size.\"\"\"\n",
    "    # Based on\n",
    "    # https://github.com/openai/improved-gan/blob/master/imagenet/convert_imagenet_to_records.py\n",
    "    image = tf.cast(record['image'], tf.float32)\n",
    "\n",
    "    image = image * (2. / 255) - 1.\n",
    "    label = tf.one_hot(record['label'], nclass, dtype=tf.int32)\n",
    "    return image, label\n",
    "\n",
    "  return _process_record"
   ]
  },
  {
   "cell_type": "code",
   "execution_count": null,
   "metadata": {},
   "outputs": [],
   "source": [
    "bs = 64\n",
    "dataset_name = \"emnist\"\n",
    "nclass = 62\n",
    "val_split = \"test\"\n",
    "data_dir = \"/scratch0/ilya/locDoc/data/tfdf\""
   ]
  },
  {
   "cell_type": "code",
   "execution_count": 468,
   "metadata": {},
   "outputs": [],
   "source": [
    "dataset_name = \"imagenet_resized/16x16\"\n",
    "nclass = 1000\n",
    "val_split = \"validation\"\n",
    "data_dir = \"/scratch1/ilya/locDoc/data/tfdf\""
   ]
  },
  {
   "cell_type": "code",
   "execution_count": 497,
   "metadata": {},
   "outputs": [],
   "source": [
    "dataset_name = \"cifar100\"\n",
    "nclass = 100\n",
    "val_split = \"test\"\n",
    "data_dir = \"/scratch0/ilya/locDoc/data/tfdf\""
   ]
  },
  {
   "cell_type": "code",
   "execution_count": 507,
   "metadata": {},
   "outputs": [
    {
     "name": "stdout",
     "output_type": "stream",
     "text": [
      "WARNING:tensorflow:AutoGraph could not transform <function _get_dataset_from_filename at 0x7fc5f434ab90> and will run it as-is.\n",
      "Please report this to the TensorFlow team. When filing the bug, set the verbosity to 10 (on Linux, `export AUTOGRAPH_VERBOSITY=10`) and attach the full output.\n",
      "Cause: module 'gast' has no attribute 'Num'\n"
     ]
    },
    {
     "name": "stderr",
     "output_type": "stream",
     "text": [
      "WARNING:tensorflow:AutoGraph could not transform <function _get_dataset_from_filename at 0x7fc5f434ab90> and will run it as-is.\n",
      "Please report this to the TensorFlow team. When filing the bug, set the verbosity to 10 (on Linux, `export AUTOGRAPH_VERBOSITY=10`) and attach the full output.\n",
      "Cause: module 'gast' has no attribute 'Num'\n"
     ]
    },
    {
     "name": "stdout",
     "output_type": "stream",
     "text": [
      "WARNING: AutoGraph could not transform <function _get_dataset_from_filename at 0x7fc5f434ab90> and will run it as-is.\n",
      "Please report this to the TensorFlow team. When filing the bug, set the verbosity to 10 (on Linux, `export AUTOGRAPH_VERBOSITY=10`) and attach the full output.\n",
      "Cause: module 'gast' has no attribute 'Num'\n",
      "WARNING:tensorflow:AutoGraph could not transform <bound method TopLevelFeature.decode_example of FeaturesDict({\n",
      "    'coarse_label': ClassLabel(shape=(), dtype=tf.int64, num_classes=20),\n",
      "    'id': Text(shape=(), dtype=tf.string),\n",
      "    'image': Image(shape=(32, 32, 3), dtype=tf.uint8),\n",
      "    'label': ClassLabel(shape=(), dtype=tf.int64, num_classes=100),\n",
      "})> and will run it as-is.\n",
      "Please report this to the TensorFlow team. When filing the bug, set the verbosity to 10 (on Linux, `export AUTOGRAPH_VERBOSITY=10`) and attach the full output.\n",
      "Cause: Bad argument number for Name: 3, expecting 4\n"
     ]
    },
    {
     "name": "stderr",
     "output_type": "stream",
     "text": [
      "WARNING:tensorflow:AutoGraph could not transform <bound method TopLevelFeature.decode_example of FeaturesDict({\n",
      "    'coarse_label': ClassLabel(shape=(), dtype=tf.int64, num_classes=20),\n",
      "    'id': Text(shape=(), dtype=tf.string),\n",
      "    'image': Image(shape=(32, 32, 3), dtype=tf.uint8),\n",
      "    'label': ClassLabel(shape=(), dtype=tf.int64, num_classes=100),\n",
      "})> and will run it as-is.\n",
      "Please report this to the TensorFlow team. When filing the bug, set the verbosity to 10 (on Linux, `export AUTOGRAPH_VERBOSITY=10`) and attach the full output.\n",
      "Cause: Bad argument number for Name: 3, expecting 4\n"
     ]
    },
    {
     "name": "stdout",
     "output_type": "stream",
     "text": [
      "WARNING: AutoGraph could not transform <bound method TopLevelFeature.decode_example of FeaturesDict({\n",
      "    'coarse_label': ClassLabel(shape=(), dtype=tf.int64, num_classes=20),\n",
      "    'id': Text(shape=(), dtype=tf.string),\n",
      "    'image': Image(shape=(32, 32, 3), dtype=tf.uint8),\n",
      "    'label': ClassLabel(shape=(), dtype=tf.int64, num_classes=100),\n",
      "})> and will run it as-is.\n",
      "Please report this to the TensorFlow team. When filing the bug, set the verbosity to 10 (on Linux, `export AUTOGRAPH_VERBOSITY=10`) and attach the full output.\n",
      "Cause: Bad argument number for Name: 3, expecting 4\n",
      "WARNING:tensorflow:AutoGraph could not transform <function _preprocess_dataset_record_fn.<locals>._process_record at 0x7fc71f4e70e0> and will run it as-is.\n",
      "Please report this to the TensorFlow team. When filing the bug, set the verbosity to 10 (on Linux, `export AUTOGRAPH_VERBOSITY=10`) and attach the full output.\n",
      "Cause: module 'gast' has no attribute 'Num'\n"
     ]
    },
    {
     "name": "stderr",
     "output_type": "stream",
     "text": [
      "WARNING:tensorflow:AutoGraph could not transform <function _preprocess_dataset_record_fn.<locals>._process_record at 0x7fc71f4e70e0> and will run it as-is.\n",
      "Please report this to the TensorFlow team. When filing the bug, set the verbosity to 10 (on Linux, `export AUTOGRAPH_VERBOSITY=10`) and attach the full output.\n",
      "Cause: module 'gast' has no attribute 'Num'\n"
     ]
    },
    {
     "name": "stdout",
     "output_type": "stream",
     "text": [
      "WARNING: AutoGraph could not transform <function _preprocess_dataset_record_fn.<locals>._process_record at 0x7fc71f4e70e0> and will run it as-is.\n",
      "Please report this to the TensorFlow team. When filing the bug, set the verbosity to 10 (on Linux, `export AUTOGRAPH_VERBOSITY=10`) and attach the full output.\n",
      "Cause: module 'gast' has no attribute 'Num'\n",
      "WARNING:tensorflow:AutoGraph could not transform <function _get_dataset_from_filename at 0x7fc5f434ab90> and will run it as-is.\n",
      "Please report this to the TensorFlow team. When filing the bug, set the verbosity to 10 (on Linux, `export AUTOGRAPH_VERBOSITY=10`) and attach the full output.\n",
      "Cause: module 'gast' has no attribute 'Num'\n"
     ]
    },
    {
     "name": "stderr",
     "output_type": "stream",
     "text": [
      "WARNING:tensorflow:AutoGraph could not transform <function _get_dataset_from_filename at 0x7fc5f434ab90> and will run it as-is.\n",
      "Please report this to the TensorFlow team. When filing the bug, set the verbosity to 10 (on Linux, `export AUTOGRAPH_VERBOSITY=10`) and attach the full output.\n",
      "Cause: module 'gast' has no attribute 'Num'\n"
     ]
    },
    {
     "name": "stdout",
     "output_type": "stream",
     "text": [
      "WARNING: AutoGraph could not transform <function _get_dataset_from_filename at 0x7fc5f434ab90> and will run it as-is.\n",
      "Please report this to the TensorFlow team. When filing the bug, set the verbosity to 10 (on Linux, `export AUTOGRAPH_VERBOSITY=10`) and attach the full output.\n",
      "Cause: module 'gast' has no attribute 'Num'\n",
      "WARNING:tensorflow:AutoGraph could not transform <bound method TopLevelFeature.decode_example of FeaturesDict({\n",
      "    'coarse_label': ClassLabel(shape=(), dtype=tf.int64, num_classes=20),\n",
      "    'id': Text(shape=(), dtype=tf.string),\n",
      "    'image': Image(shape=(32, 32, 3), dtype=tf.uint8),\n",
      "    'label': ClassLabel(shape=(), dtype=tf.int64, num_classes=100),\n",
      "})> and will run it as-is.\n",
      "Please report this to the TensorFlow team. When filing the bug, set the verbosity to 10 (on Linux, `export AUTOGRAPH_VERBOSITY=10`) and attach the full output.\n",
      "Cause: Bad argument number for Name: 3, expecting 4\n"
     ]
    },
    {
     "name": "stderr",
     "output_type": "stream",
     "text": [
      "WARNING:tensorflow:AutoGraph could not transform <bound method TopLevelFeature.decode_example of FeaturesDict({\n",
      "    'coarse_label': ClassLabel(shape=(), dtype=tf.int64, num_classes=20),\n",
      "    'id': Text(shape=(), dtype=tf.string),\n",
      "    'image': Image(shape=(32, 32, 3), dtype=tf.uint8),\n",
      "    'label': ClassLabel(shape=(), dtype=tf.int64, num_classes=100),\n",
      "})> and will run it as-is.\n",
      "Please report this to the TensorFlow team. When filing the bug, set the verbosity to 10 (on Linux, `export AUTOGRAPH_VERBOSITY=10`) and attach the full output.\n",
      "Cause: Bad argument number for Name: 3, expecting 4\n"
     ]
    },
    {
     "name": "stdout",
     "output_type": "stream",
     "text": [
      "WARNING: AutoGraph could not transform <bound method TopLevelFeature.decode_example of FeaturesDict({\n",
      "    'coarse_label': ClassLabel(shape=(), dtype=tf.int64, num_classes=20),\n",
      "    'id': Text(shape=(), dtype=tf.string),\n",
      "    'image': Image(shape=(32, 32, 3), dtype=tf.uint8),\n",
      "    'label': ClassLabel(shape=(), dtype=tf.int64, num_classes=100),\n",
      "})> and will run it as-is.\n",
      "Please report this to the TensorFlow team. When filing the bug, set the verbosity to 10 (on Linux, `export AUTOGRAPH_VERBOSITY=10`) and attach the full output.\n",
      "Cause: Bad argument number for Name: 3, expecting 4\n",
      "WARNING:tensorflow:AutoGraph could not transform <function _preprocess_dataset_record_fn.<locals>._process_record at 0x7fc5ddac59e0> and will run it as-is.\n",
      "Please report this to the TensorFlow team. When filing the bug, set the verbosity to 10 (on Linux, `export AUTOGRAPH_VERBOSITY=10`) and attach the full output.\n",
      "Cause: module 'gast' has no attribute 'Num'\n"
     ]
    },
    {
     "name": "stderr",
     "output_type": "stream",
     "text": [
      "WARNING:tensorflow:AutoGraph could not transform <function _preprocess_dataset_record_fn.<locals>._process_record at 0x7fc5ddac59e0> and will run it as-is.\n",
      "Please report this to the TensorFlow team. When filing the bug, set the verbosity to 10 (on Linux, `export AUTOGRAPH_VERBOSITY=10`) and attach the full output.\n",
      "Cause: module 'gast' has no attribute 'Num'\n"
     ]
    },
    {
     "name": "stdout",
     "output_type": "stream",
     "text": [
      "WARNING: AutoGraph could not transform <function _preprocess_dataset_record_fn.<locals>._process_record at 0x7fc5ddac59e0> and will run it as-is.\n",
      "Please report this to the TensorFlow team. When filing the bug, set the verbosity to 10 (on Linux, `export AUTOGRAPH_VERBOSITY=10`) and attach the full output.\n",
      "Cause: module 'gast' has no attribute 'Num'\n"
     ]
    }
   ],
   "source": [
    "bs = 128\n",
    "\n",
    "dataset = tfds.load(dataset_name, split=\"train\", data_dir=data_dir)\n",
    "dataset = dataset.shuffle(10000)\n",
    "dataset = (dataset.map(_preprocess_dataset_record_fn(nclass),\n",
    "                         num_parallel_calls=4)\n",
    "             .batch(bs, drop_remainder=True))\n",
    "train_ds = dataset.prefetch(tf.data.experimental.AUTOTUNE)\n",
    "\n",
    "dataset = tfds.load(dataset_name, split=val_split, data_dir=data_dir)\n",
    "test_ds = (dataset.map(_preprocess_dataset_record_fn(nclass),\n",
    "                         num_parallel_calls=4)\n",
    "             .batch(bs, drop_remainder=True))"
   ]
  },
  {
   "cell_type": "code",
   "execution_count": 317,
   "metadata": {},
   "outputs": [],
   "source": [
    "# https://medium.com/@FloydHsiu0618/spectral-normalization-implementation-of-tensorflow-2-0-keras-api-d9060d26de77\n",
    "from tensorflow.python.eager import def_function\n",
    "from tensorflow.python.framework import dtypes\n",
    "from tensorflow.python.framework import tensor_shape\n",
    "from tensorflow.python.keras import backend as K\n",
    "from tensorflow.python.keras import layers\n",
    "from tensorflow.python.keras import initializers\n",
    "from tensorflow.python.ops import array_ops\n",
    "from tensorflow.python.ops import math_ops\n",
    "\n",
    "class SpectralNormalization(layers.Wrapper):\n",
    "    \"\"\"\n",
    "    Attributes:\n",
    "       layer: tensorflow keras layers (with kernel attribute)\n",
    "    \"\"\"\n",
    "\n",
    "    def __init__(self, layer, **kwargs):\n",
    "        super(SpectralNormalization, self).__init__(layer, **kwargs)\n",
    "\n",
    "    def build(self, input_shape):\n",
    "        \"\"\"Build `Layer`\"\"\"\n",
    "\n",
    "        if not self.layer.built:\n",
    "            self.layer.build(input_shape)\n",
    "\n",
    "        if not hasattr(self.layer, 'kernel'):\n",
    "            raise ValueError(\n",
    "                '`SpectralNormalization` must wrap a layer that'\n",
    "                ' contains a `kernel` for weights')\n",
    "\n",
    "        self.w = self.layer.kernel\n",
    "        self.w_shape = self.w.shape.as_list()\n",
    "        self.u = self.add_variable(\n",
    "            shape=tuple([1, self.w_shape[-1]]),\n",
    "            initializer=initializers.TruncatedNormal(stddev=0.02),\n",
    "            name='sn_u',\n",
    "            trainable=False,\n",
    "            dtype=dtypes.float32)\n",
    "\n",
    "        super(SpectralNormalization, self).build()\n",
    "\n",
    "    @def_function.function\n",
    "    def call(self, inputs, training=None):\n",
    "        \"\"\"Call `Layer`\"\"\"\n",
    "        if training is None:\n",
    "            training = K.learning_phase()\n",
    "        \n",
    "        if training==True:\n",
    "            # Recompute weights for each forward pass\n",
    "            self._compute_weights()\n",
    "        \n",
    "        output = self.layer(inputs)\n",
    "        return output\n",
    "\n",
    "    def _compute_weights(self):\n",
    "        \"\"\"Generate normalized weights.\n",
    "        This method will update the value of self.layer.kernel with the\n",
    "        normalized value, so that the layer is ready for call().\n",
    "        \"\"\"\n",
    "        w_reshaped = array_ops.reshape(self.w, [-1, self.w_shape[-1]])\n",
    "        eps = 1e-12\n",
    "        _u = array_ops.identity(self.u)\n",
    "        _v = math_ops.matmul(_u, array_ops.transpose(w_reshaped))\n",
    "        _v = _v / math_ops.maximum(math_ops.reduce_sum(_v**2)**0.5, eps)\n",
    "        _u = math_ops.matmul(_v, w_reshaped)\n",
    "        _u = _u / math_ops.maximum(math_ops.reduce_sum(_u**2)**0.5, eps)\n",
    "\n",
    "        self.u.assign(_u)\n",
    "        sigma = math_ops.matmul(math_ops.matmul(_v, w_reshaped), array_ops.transpose(_u))\n",
    "\n",
    "        self.layer.kernel.assign(self.w / sigma)\n",
    "\n",
    "    def compute_output_shape(self, input_shape):\n",
    "        return tensor_shape.TensorShape(\n",
    "            self.layer.compute_output_shape(input_shape).as_list())\n"
   ]
  },
  {
   "cell_type": "code",
   "execution_count": 318,
   "metadata": {},
   "outputs": [],
   "source": [
    "# for feature vectors\n",
    "class MySNModel(Model):\n",
    "  def __init__(self, nclass):\n",
    "    super(MySNModel, self).__init__()\n",
    "    self.nclass = nclass\n",
    "    self.d2 = SpectralNormalization(Dense(nclass, activation=None,\n",
    "        use_bias=True,\n",
    "        kernel_initializer=tf.compat.v1.keras.initializers.VarianceScaling(\n",
    "            scale=1.0, mode='fan_avg', distribution='uniform'),\n",
    "        bias_initializer=tf.compat.v1.initializers.constant(0.0)))\n",
    "\n",
    "  def call(self, x):\n",
    "    return self.d2(x)\n",
    "\n",
    "class MyModel(Model):\n",
    "  def __init__(self, nclass):\n",
    "    super(MyModel, self).__init__()\n",
    "    self.nclass = nclass\n",
    "    self.d2 = Dense(nclass)\n",
    "\n",
    "  def call(self, x):\n",
    "    return self.d2(x)"
   ]
  },
  {
   "cell_type": "code",
   "execution_count": null,
   "metadata": {},
   "outputs": [],
   "source": [
    "# for images\n",
    "class MySNModel(Model):\n",
    "  def __init__(self, n_class):\n",
    "    super(MySNModel, self).__init__()\n",
    "    self.nclass = nclass\n",
    "    self.conv1 = Conv2D(32, 3, activation='relu')\n",
    "    self.flatten = Flatten()\n",
    "    self.d1 = Dense(128, activation='relu')\n",
    "    self.d2 = SpectralNormalization(Dense(nclass, activation=None,\n",
    "        use_bias=True,\n",
    "        kernel_initializer=tf.compat.v1.keras.initializers.VarianceScaling(\n",
    "            scale=1.0, mode='fan_avg', distribution='uniform'),\n",
    "        bias_initializer=tf.compat.v1.initializers.constant(0.0)))\n",
    "\n",
    "  def call(self, x):\n",
    "    x = self.conv1(x)\n",
    "    x = self.flatten(x)\n",
    "    x = self.d1(x)\n",
    "    return self.d2(x)\n",
    "\n",
    "class DiscModel32(Model):\n",
    "  def __init__(self, n_class, df_dim):\n",
    "    super(DiscModel32, self).__init__()\n",
    "    self.nclass = nclass\n",
    "    \n",
    "    \n",
    "    self.block1_1 = SpectralNormalization(Conv2D(df_dim, 3, activation='relu', padding='same', use_bias=True,kernel_initializer=tf.compat.v1.keras.initializers.VarianceScaling(scale=1.0, mode='fan_avg', distribution='uniform'),bias_initializer=tf.compat.v1.initializers.zeros()))\n",
    "    self.block1_2 = SpectralNormalization(Conv2D(df_dim, 3, activation='relu', padding='same', use_bias=True,kernel_initializer=tf.compat.v1.keras.initializers.VarianceScaling(scale=1.0, mode='fan_avg', distribution='uniform'),bias_initializer=tf.compat.v1.initializers.zeros()))\n",
    "    self.block1_3 = SpectralNormalization(Conv2D(df_dim, 1, activation=None, padding='same', use_bias=True,kernel_initializer=tf.compat.v1.keras.initializers.VarianceScaling(scale=1.0, mode='fan_avg', distribution='uniform'),bias_initializer=tf.compat.v1.initializers.zeros()))\n",
    "    self.ds = AveragePooling2D()\n",
    "    \n",
    "    self.act = ReLU()\n",
    "    self.block2_1 = SpectralNormalization(Conv2D(df_dim*4, 3, activation='relu', padding='same', use_bias=True,kernel_initializer=tf.compat.v1.keras.initializers.VarianceScaling(scale=1.0, mode='fan_avg', distribution='uniform'),bias_initializer=tf.compat.v1.initializers.zeros()))\n",
    "    self.block2_2 = SpectralNormalization(Conv2D(df_dim*4, 3, activation=None, padding='same', use_bias=True,kernel_initializer=tf.compat.v1.keras.initializers.VarianceScaling(scale=1.0, mode='fan_avg', distribution='uniform'),bias_initializer=tf.compat.v1.initializers.zeros()))\n",
    "    self.block2_3 = SpectralNormalization(Conv2D(df_dim*4, 1, activation=None, padding='same', use_bias=True,kernel_initializer=tf.compat.v1.keras.initializers.VarianceScaling(scale=1.0, mode='fan_avg', distribution='uniform'),bias_initializer=tf.compat.v1.initializers.zeros()))\n",
    "    \n",
    "    self.block3_1 = SpectralNormalization(Conv2D(df_dim*4, 3, activation='relu', padding='same', use_bias=True,kernel_initializer=tf.compat.v1.keras.initializers.VarianceScaling(scale=1.0, mode='fan_avg', distribution='uniform'),bias_initializer=tf.compat.v1.initializers.zeros()))\n",
    "    self.block3_2 = SpectralNormalization(Conv2D(df_dim*4, 3, activation=None, padding='same', use_bias=True,kernel_initializer=tf.compat.v1.keras.initializers.VarianceScaling(scale=1.0, mode='fan_avg', distribution='uniform'),bias_initializer=tf.compat.v1.initializers.zeros()))\n",
    "    self.block3_3 = SpectralNormalization(Conv2D(df_dim*4, 1, activation=None, padding='same', use_bias=True,kernel_initializer=tf.compat.v1.keras.initializers.VarianceScaling(scale=1.0, mode='fan_avg', distribution='uniform'),bias_initializer=tf.compat.v1.initializers.zeros()))\n",
    "    \n",
    "    self.block4_1 = SpectralNormalization(Conv2D(df_dim*4, 3, activation='relu', padding='same', use_bias=True,kernel_initializer=tf.compat.v1.keras.initializers.VarianceScaling(scale=1.0, mode='fan_avg', distribution='uniform'),bias_initializer=tf.compat.v1.initializers.zeros()))\n",
    "    self.block4_2 = SpectralNormalization(Conv2D(df_dim*4, 3, activation=None, padding='same', use_bias=True,kernel_initializer=tf.compat.v1.keras.initializers.VarianceScaling(scale=1.0, mode='fan_avg', distribution='uniform'),bias_initializer=tf.compat.v1.initializers.zeros()))\n",
    "\n",
    "\n",
    "    self.classifier = SpectralNormalization(Dense(nclass, activation=None,\n",
    "        use_bias=True,\n",
    "        kernel_initializer=tf.compat.v1.keras.initializers.VarianceScaling(\n",
    "            scale=1.0, mode='fan_avg', distribution='uniform'),\n",
    "        bias_initializer=tf.compat.v1.initializers.constant(0.0)))\n",
    "\n",
    "  def call(self, x0):\n",
    "    # \"efficient\" block where ds before 1x1 conv\n",
    "    x = self.block1_1(x0)\n",
    "    x = self.block1_2(x)\n",
    "    x = self.ds(x)\n",
    "    x0 = self.ds(x0)\n",
    "    x0 = self.block1_3(x0)\n",
    "    x0 = x + x0\n",
    "    \n",
    "    x = self.act(x0)\n",
    "    x = self.block2_1(x)\n",
    "    x = self.block2_2(x)\n",
    "    x = self.ds(x)\n",
    "    x0 = self.block2_3(x0)\n",
    "    x0 = self.ds(x0)\n",
    "    x0 = x + x0\n",
    "    \n",
    "    x = self.act(x0)\n",
    "    x = self.block3_1(x)\n",
    "    x = self.block3_2(x)\n",
    "    x = self.ds(x)\n",
    "    x0 = self.block3_3(x0)\n",
    "    x0 = self.ds(x0)\n",
    "    x0 = x + x0\n",
    "    \n",
    "    x = self.act(x0)\n",
    "    x = self.block4_1(x)\n",
    "    x = self.block4_2(x)\n",
    "    x = x + x0\n",
    "    \n",
    "    x = self.act(x)\n",
    "    x = tf.keras.backend.sum(x, axis=[1, 2])\n",
    "    return self.classifier(x)\n",
    "\n",
    "class DiscModel16(Model):\n",
    "  def __init__(self, n_class, df_dim):\n",
    "    super(DiscModel16, self).__init__()\n",
    "    self.nclass = nclass\n",
    "    \n",
    "    \n",
    "    self.block1_1 = SpectralNormalization(Conv2D(df_dim, 3, activation='relu', padding='same', use_bias=True,kernel_initializer=tf.compat.v1.keras.initializers.VarianceScaling(scale=1.0, mode='fan_avg', distribution='uniform'),bias_initializer=tf.compat.v1.initializers.zeros()))\n",
    "    self.block1_2 = SpectralNormalization(Conv2D(df_dim, 3, activation=None, padding='same', use_bias=True,kernel_initializer=tf.compat.v1.keras.initializers.VarianceScaling(scale=1.0, mode='fan_avg', distribution='uniform'),bias_initializer=tf.compat.v1.initializers.zeros()))\n",
    "    self.block1_3 = SpectralNormalization(Conv2D(df_dim, 1, activation=None, padding='same', use_bias=True,kernel_initializer=tf.compat.v1.keras.initializers.VarianceScaling(scale=1.0, mode='fan_avg', distribution='uniform'),bias_initializer=tf.compat.v1.initializers.zeros()))\n",
    "    self.ds = AveragePooling2D()\n",
    "    \n",
    "    self.act = ReLU()\n",
    "    self.block2_1 = SpectralNormalization(Conv2D(df_dim*4, 3, activation='relu', padding='same', use_bias=True,kernel_initializer=tf.compat.v1.keras.initializers.VarianceScaling(scale=1.0, mode='fan_avg', distribution='uniform'),bias_initializer=tf.compat.v1.initializers.zeros()))\n",
    "    self.block2_2 = SpectralNormalization(Conv2D(df_dim*4, 3, activation=None, padding='same', use_bias=True,kernel_initializer=tf.compat.v1.keras.initializers.VarianceScaling(scale=1.0, mode='fan_avg', distribution='uniform'),bias_initializer=tf.compat.v1.initializers.zeros()))\n",
    "    self.block2_3 = SpectralNormalization(Conv2D(df_dim*4, 1, activation=None, padding='same', use_bias=True,kernel_initializer=tf.compat.v1.keras.initializers.VarianceScaling(scale=1.0, mode='fan_avg', distribution='uniform'),bias_initializer=tf.compat.v1.initializers.zeros()))\n",
    "    \n",
    "    self.block4_1 = SpectralNormalization(Conv2D(df_dim*4, 3, activation='relu', padding='same', use_bias=True,kernel_initializer=tf.compat.v1.keras.initializers.VarianceScaling(scale=1.0, mode='fan_avg', distribution='uniform'),bias_initializer=tf.compat.v1.initializers.zeros()))\n",
    "    self.block4_2 = SpectralNormalization(Conv2D(df_dim*4, 3, activation=None, padding='same', use_bias=True,kernel_initializer=tf.compat.v1.keras.initializers.VarianceScaling(scale=1.0, mode='fan_avg', distribution='uniform'),bias_initializer=tf.compat.v1.initializers.zeros()))\n",
    "\n",
    "\n",
    "    self.classifier = SpectralNormalization(Dense(nclass, activation=None,\n",
    "        use_bias=True,\n",
    "        kernel_initializer=tf.compat.v1.keras.initializers.VarianceScaling(\n",
    "            scale=1.0, mode='fan_avg', distribution='uniform'),\n",
    "        bias_initializer=tf.compat.v1.initializers.constant(0.0)))\n",
    "\n",
    "  def call(self, x0):\n",
    "    # \"efficient\" block where ds before 1x1 conv\n",
    "    x = self.block1_1(x0)\n",
    "    x = self.block1_2(x)\n",
    "    x = self.ds(x)\n",
    "    x0 = self.ds(x0)\n",
    "    x0 = self.block1_3(x0)\n",
    "    x0 = x + x0\n",
    "    \n",
    "    x = self.act(x0)\n",
    "    x = self.block2_1(x)\n",
    "    x = self.block2_2(x)\n",
    "    x = self.ds(x)\n",
    "    x0 = self.block2_3(x0)\n",
    "    x0 = self.ds(x0)\n",
    "    x0 = x + x0\n",
    "    \n",
    "    x = self.act(x0)\n",
    "    x = self.block4_1(x)\n",
    "    x = self.block4_2(x)\n",
    "    x = x + x0\n",
    "    \n",
    "    x = self.act(x)\n",
    "    x = tf.keras.backend.sum(x, axis=[1, 2])\n",
    "    return self.classifier(x)\n",
    "    \n",
    " \n",
    "\n",
    "class MyModel(Model):\n",
    "  def __init__(self, n_class):\n",
    "    super(MyModel, self).__init__()\n",
    "    self.nclass = nclass\n",
    "    self.conv1 = Conv2D(32, 3, activation='relu')\n",
    "    self.flatten = Flatten()\n",
    "    self.d1 = Dense(128, activation='relu')\n",
    "    self.d2 = Dense(nclass)\n",
    "\n",
    "  def call(self, x):\n",
    "    x = self.conv1(x)\n",
    "    x = self.flatten(x)\n",
    "    x = self.d1(x)\n",
    "    return self.d2(x)"
   ]
  },
  {
   "cell_type": "code",
   "execution_count": 556,
   "metadata": {},
   "outputs": [],
   "source": [
    "# model = MySNModel(n_class)\n",
    "model = DiscModel32(n_class, 32)\n",
    "# model = MyModel(n_class)"
   ]
  },
  {
   "cell_type": "code",
   "execution_count": 557,
   "metadata": {},
   "outputs": [],
   "source": [
    "# loss_object = tf.keras.losses.CategoricalCrossentropy(from_logits=True)\n",
    "loss_object = tf.keras.losses.Hinge(reduction=\"auto\", name=\"hinge\")\n",
    "optimizer = tf.keras.optimizers.Adam(learning_rate=0.0001)"
   ]
  },
  {
   "cell_type": "code",
   "execution_count": 558,
   "metadata": {},
   "outputs": [],
   "source": [
    "train_loss = tf.keras.metrics.Mean(name='train_loss')\n",
    "train_accuracy = tf.keras.metrics.CategoricalAccuracy(name='train_accuracy')\n",
    "\n",
    "test_loss = tf.keras.metrics.Mean(name='test_loss')\n",
    "test_accuracy = tf.keras.metrics.CategoricalAccuracy(name='test_accuracy')"
   ]
  },
  {
   "cell_type": "code",
   "execution_count": 559,
   "metadata": {},
   "outputs": [],
   "source": [
    "@tf.function\n",
    "def train_step(images, labels):\n",
    "  with tf.GradientTape() as tape:\n",
    "    # training=True is only needed if there are layers with different\n",
    "    # behavior during training versus inference (e.g. Dropout).\n",
    "    predictions = model(images, training=True)\n",
    "    loss = loss_object(labels, predictions)\n",
    "  gradients = tape.gradient(loss, model.trainable_variables)\n",
    "  optimizer.apply_gradients(zip(gradients, model.trainable_variables))\n",
    "\n",
    "  train_loss(loss)\n",
    "  train_accuracy(labels, predictions)"
   ]
  },
  {
   "cell_type": "code",
   "execution_count": 560,
   "metadata": {},
   "outputs": [],
   "source": [
    "@tf.function\n",
    "def test_step(images, labels):\n",
    "  # training=False is only needed if there are layers with different\n",
    "  # behavior during training versus inference (e.g. Dropout).\n",
    "  predictions = model(images, training=False)\n",
    "  t_loss = loss_object(labels, predictions)\n",
    "\n",
    "  test_loss(t_loss)\n",
    "  test_accuracy(labels, predictions)"
   ]
  },
  {
   "cell_type": "code",
   "execution_count": 566,
   "metadata": {},
   "outputs": [],
   "source": [
    "EPOCHS = 1\n",
    "\n",
    "for epoch in range(EPOCHS):\n",
    "  # Reset the metrics at the start of the next epoch\n",
    "  train_loss.reset_states()\n",
    "  train_accuracy.reset_states()\n",
    "  test_loss.reset_states()\n",
    "  test_accuracy.reset_states()\n",
    "\n",
    "#   for images, labels in train_ds:\n",
    "#     train_step(images, labels)\n",
    "\n",
    "  for test_images, test_labels in test_ds:\n",
    "    test_step(test_images, test_labels)\n",
    "\n",
    "#   if epoch % 10 == 0:\n",
    "#   template = 'Epoch {}, Loss: {}, Accuracy: {}, Test Loss: {}, Test Accuracy: {}'\n",
    "#   print(template.format(epoch + 1,\n",
    "#                         train_loss.result(),\n",
    "#                         train_accuracy.result() * 100,\n",
    "#                         test_loss.result(),\n",
    "#                         test_accuracy.result() * 100))"
   ]
  },
  {
   "cell_type": "code",
   "execution_count": 567,
   "metadata": {},
   "outputs": [
    {
     "name": "stdout",
     "output_type": "stream",
     "text": [
      "(128, 100)\n"
     ]
    }
   ],
   "source": [
    "W = model.weights[-3].numpy()\n",
    "print(W.shape)"
   ]
  },
  {
   "cell_type": "code",
   "execution_count": 568,
   "metadata": {},
   "outputs": [],
   "source": [
    "w, v = LA.eig(np.matmul(W.T, W))"
   ]
  },
  {
   "cell_type": "code",
   "execution_count": 569,
   "metadata": {},
   "outputs": [
    {
     "data": {
      "text/plain": [
       "[<matplotlib.lines.Line2D at 0x7fc5f45fbb10>]"
      ]
     },
     "execution_count": 569,
     "metadata": {},
     "output_type": "execute_result"
    },
    {
     "data": {
      "image/png": "[encoded data removed]",
      "text/plain": [
       "<Figure size 432x288 with 1 Axes>"
      ]
     },
     "metadata": {
      "needs_background": "light"
     },
     "output_type": "display_data"
    }
   ],
   "source": [
    "plt.plot(sorted(w, reverse=True) )"
   ]
  },
  {
   "cell_type": "code",
   "execution_count": 461,
   "metadata": {},
   "outputs": [
    {
     "data": {
      "text/plain": [
       "[<matplotlib.lines.Line2D at 0x7fc5de709a50>]"
      ]
     },
     "execution_count": 461,
     "metadata": {},
     "output_type": "execute_result"
    },
    {
     "data": {
      "image/png": "[encoded data removed]",
      "text/plain": [
       "<Figure size 432x288 with 1 Axes>"
      ]
     },
     "metadata": {
      "needs_background": "light"
     },
     "output_type": "display_data"
    }
   ],
   "source": [
    "plt.plot(sorted(w, reverse=True) )"
   ]
  },
  {
   "cell_type": "markdown",
   "metadata": {},
   "source": [
    "For make_blobs, very hard L shaped curves. (Were there also some straight lines sometimes?)\n",
    "For emnist, soft L shaped eigenvalue plots. No shelf.\n",
    "Maybe go deeper in terms of features.\n",
    "40 epochs of cifar100: less steep L curve and closer to a straight line at 13% test acc"
   ]
  },
  {
   "cell_type": "code",
   "execution_count": null,
   "metadata": {},
   "outputs": [],
   "source": []
  }
 ],
 "metadata": {
  "kernelspec": {
   "display_name": "Python 3",
   "language": "python",
   "name": "python3"
  },
  "language_info": {
   "codemirror_mode": {
    "name": "ipython",
    "version": 3
   },
   "file_extension": ".py",
   "mimetype": "text/x-python",
   "name": "python",
   "nbconvert_exporter": "python",
   "pygments_lexer": "ipython3",
   "version": "3.7.7"
  }
 },
 "nbformat": 4,
 "nbformat_minor": 4
}
